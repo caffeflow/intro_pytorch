{
 "cells": [
  {
   "cell_type": "markdown",
   "metadata": {},
   "source": [
    "# 3.2 线性回归的从零开始实现\n",
    "\n",
    "在了解了线性回归的背景知识之后，现在我们可以动手实现它了。尽管强大的深度学习框架可以减少大量重复性工作，但若过于依赖它提供的便利，会导致我们很难深入理解深度学习是如何工作的。因此，本节将介绍如何只利用Tensor和GradientTape来实现一个线性回归的训练"
   ]
  },
  {
   "cell_type": "markdown",
   "metadata": {},
   "source": [
    "导包"
   ]
  },
  {
   "cell_type": "code",
   "execution_count": 135,
   "metadata": {},
   "outputs": [
    {
     "name": "stdout",
     "output_type": "stream",
     "text": [
      "2.2.0\n"
     ]
    }
   ],
   "source": [
    "import tensorflow as tf\n",
    "import numpy as np\n",
    "from matplotlib import pyplot as plt\n",
    "import random\n",
    "%matplotlib inline\n",
    "\n",
    "print(tf.__version__)\n",
    "    # 2.2.0"
   ]
  },
  {
   "cell_type": "markdown",
   "metadata": {},
   "source": [
    "3.2.1 生成数据集\n",
    "---\n",
    "我们构造一个简单的人工训练数据集，它可以使我们能够直观比较学到的参数和真实的模型参数的区别。设训练数据集样本数为1000，输入个数（特征数）为2。给定随机生成的批量样本特征 $X ∈ R^{1000x2}$\n",
    " ，我们使用线性回归模型真实权重$ w=[2,−3.4]^⊤$\n",
    "  和偏差 b=4.2，以及一个随机噪声项 ϵ 来生成标签 $$ y = Xw+b+ϵ $$\n",
    "其中噪声项ϵ服从均值为0，标准差为0.01的正态分布。噪声代表了数据集中无意义的干扰。下面，使用这种形式生成数据集。"
   ]
  },
  {
   "cell_type": "markdown",
   "metadata": {},
   "source": [
    "（吴恩达老师的讲法）也可以$X ∈ R^{2xm}$ $w=[2,−3.4]$，那么生成标签为： $$ y = wX+b+ϵ $$\n"
   ]
  },
  {
   "cell_type": "code",
   "execution_count": 136,
   "metadata": {},
   "outputs": [],
   "source": [
    "num_inputs = 2\n",
    "num_examples = 1000\n",
    "true_w = [2,-3.4]\n",
    "true_b = 4.2\n",
    "features = tf.random.normal(\n",
    "    shape=(num_examples,num_inputs),\n",
    "    mean=0.0,\n",
    "    stddev=1)\n",
    "\n",
    "# wx+b\n",
    "labels = true_w[0]*features[:,0]+true_w[1]*features[:,1]+true_b\n",
    "    # 等价向量化为labels = x*transpose(w)+b\n",
    "        # 那么尺寸为(1000,2)*(2,1)+(1000,1)=>(1000,1)\n",
    "\n",
    "# 噪声\n",
    "labels += tf.random.normal(\n",
    "    shape=labels.shape,\n",
    "    mean=0.0,\n",
    "    stddev=0.01)"
   ]
  },
  {
   "cell_type": "markdown",
   "metadata": {},
   "source": [
    "注意，features的每一行是一个长度为2的向量，而labels的每一行是一个长度为1的向量（标量）"
   ]
  },
  {
   "cell_type": "code",
   "execution_count": 137,
   "metadata": {},
   "outputs": [
    {
     "name": "stdout",
     "output_type": "stream",
     "text": [
      "tf.Tensor([1.2763801  0.07339173], shape=(2,), dtype=float32) tf.Tensor(6.5081067, shape=(), dtype=float32)\n"
     ]
    }
   ],
   "source": [
    "print(features[0],labels[0])"
   ]
  },
  {
   "cell_type": "markdown",
   "metadata": {},
   "source": [
    "通过生成第二个特征features[:, 1]和标签 labels 的散点图，可以更直观地观察两者间的线性关系。"
   ]
  },
  {
   "cell_type": "code",
   "execution_count": 138,
   "metadata": {
    "scrolled": true
   },
   "outputs": [
    {
     "data": {
      "text/plain": [
       "<matplotlib.collections.PathCollection at 0x7f8581b31070>"
      ]
     },
     "execution_count": 138,
     "metadata": {},
     "output_type": "execute_result"
    },
    {
     "data": {
      "image/png": "[encoded data removed]",
      "text/plain": [
       "<Figure size 396x252 with 1 Axes>"
      ]
     },
     "metadata": {
      "needs_background": "light"
     },
     "output_type": "display_data"
    }
   ],
   "source": [
    "def set_figsize(figsize=(5.5,3.5)):\n",
    "    plt.rcParams['figure.figsize'] = figsize\n",
    "        #rc简写run configuration\n",
    "\n",
    "set_figsize()\n",
    "plt.scatter(x=features[:,1],y=labels,s=0.5)\n",
    "    # 参数s：颗粒大小"
   ]
  },
  {
   "cell_type": "markdown",
   "metadata": {},
   "source": [
    "3.2.2 读取数据\n",
    "---\n",
    "\n",
    "在训练模型的时候，我们需要遍历数据集并不断读取小批量数据样本。这里我们定义一个函数：它每次返回batch_size（批量大小）个随机样本的特征和标签——\"子features\"和\"子labels\""
   ]
  },
  {
   "cell_type": "code",
   "execution_count": 141,
   "metadata": {},
   "outputs": [],
   "source": [
    "def data_iter(batch_size,features,labels):\n",
    "    num_examples = len(features) # 获得总样本数量\n",
    "    indices = list(range(0,num_examples))\n",
    "    random.shuffle(indices) # 洗牌\n",
    "    for i in range(0,num_examples,batch_size):\n",
    "        j = indices[i:min(i+batch_size,num_examples)]\n",
    "        yield tf.gather(params=features,indices=j,axis=0),\\\n",
    "              tf.gather(params=labels,indices=j,axis=0)\n",
    "        \n",
    "            # tf.gather()\n",
    "                # docstrings: Gather slices from params axis `axis` according to indices.\n",
    "        "
   ]
  },
  {
   "cell_type": "code",
   "execution_count": 142,
   "metadata": {},
   "outputs": [
    {
     "name": "stdout",
     "output_type": "stream",
     "text": [
      "tf.Tensor(\n",
      "[[-0.9805553   0.52415913]\n",
      " [-1.1895803   0.21512488]\n",
      " [ 0.5898868   0.5134069 ]\n",
      " [ 0.02777003  1.2330498 ]\n",
      " [ 0.48656088  0.37721115]\n",
      " [-0.879967    1.4509336 ]\n",
      " [ 0.60118216 -0.6790095 ]\n",
      " [ 0.24877065 -1.1020476 ]\n",
      " [-0.0259544  -0.74877214]\n",
      " [ 0.09126366  0.9967373 ]], shape=(10, 2), dtype=float32) tf.Tensor(\n",
      "[ 0.44683564  1.0867982   3.633434    0.06248729  3.8988402  -2.4988923\n",
      "  7.722994    8.438548    6.702274    0.9659691 ], shape=(10,), dtype=float32)\n"
     ]
    }
   ],
   "source": [
    "# 测试data_iter() \n",
    "batch_size = 10\n",
    "for X,y in data_iter(batch_size,features,labels):\n",
    "    print(X,y)\n",
    "    break"
   ]
  },
  {
   "cell_type": "markdown",
   "metadata": {},
   "source": [
    "3.2.3 初始化模型参数\n",
    "---"
   ]
  },
  {
   "cell_type": "markdown",
   "metadata": {},
   "source": [
    "我们将权重初始化成均值为0、标准差为0.01的正态随机数。偏差则初始化成0标量。"
   ]
  },
  {
   "cell_type": "code",
   "execution_count": 143,
   "metadata": {},
   "outputs": [],
   "source": [
    "\n",
    "w = tf.Variable(tf.random.normal(shape=(num_inputs,1),\n",
    "                                 mean=0,\n",
    "                                 stddev=0.01))\n",
    "b = tf.Variable(tf.zeros(shape=(1,)))"
   ]
  },
  {
   "cell_type": "markdown",
   "metadata": {},
   "source": [
    "3.2.4 定义模型\n",
    "---\n",
    "$X_{(m,2)}w_{(2,1)}+b =>\\hat{y}_{(m,1)}$\n",
    "\n",
    "\n",
    "linear regression简写linreg"
   ]
  },
  {
   "cell_type": "code",
   "execution_count": 144,
   "metadata": {},
   "outputs": [],
   "source": [
    "def linreg(X,w,b):\n",
    "    return tf.matmul(a=X,b=w)+b"
   ]
  },
  {
   "cell_type": "markdown",
   "metadata": {},
   "source": [
    "3.2.5 定义损失函数\n",
    "---\n",
    "平方损失来定义线性回归的损失函数。在实现中，我们需要把真实值y变形成预测值y_hat的形状。\n",
    "\n",
    " tf.reshape(tensor,shape)是返回值改变尺寸，tensor参数本身不会改变尺寸。"
   ]
  },
  {
   "cell_type": "code",
   "execution_count": 151,
   "metadata": {},
   "outputs": [],
   "source": [
    "def squared_loss(y_hat,y):\n",
    "    return (y_hat - tf.reshape(y,shape=y_hat.shape))**2 /2\n",
    "       "
   ]
  },
  {
   "cell_type": "markdown",
   "metadata": {},
   "source": [
    "3.2.6 定义优化算法(更新参数来优化损失函数)\n",
    "---\n",
    "\n",
    "小批量随机梯度下降算法。比如：$ w:= w - 学习率 \\frac{θJ}{θw}$\n",
    "\n",
    "参数中的grads是自动求梯度模块计算得来的梯度，这是一个批量样本的梯度和。我们将它除以批量大小来得到平均值。"
   ]
  },
  {
   "cell_type": "code",
   "execution_count": 152,
   "metadata": {},
   "outputs": [],
   "source": [
    "def sgd(params,lr,batch_size,grads):\n",
    "    \"\"\"Mini-batch stochastic gradient descent.\"\"\"\n",
    "    for i,param in enumerate(params):\n",
    "        param.assign_sub(lr*grads[i] / batch_size)\n",
    "            # Subtracts a value from this variable."
   ]
  },
  {
   "cell_type": "markdown",
   "metadata": {},
   "source": [
    "3.2.7 训练模型\n",
    "---"
   ]
  },
  {
   "cell_type": "markdown",
   "metadata": {},
   "source": [
    "提前设置好超参数，然后进行训练"
   ]
  },
  {
   "cell_type": "code",
   "execution_count": 153,
   "metadata": {},
   "outputs": [
    {
     "name": "stdout",
     "output_type": "stream",
     "text": [
      "epoch1,loss 0.034467\n",
      "epoch2,loss 0.000128\n",
      "epoch3,loss 0.000050\n"
     ]
    }
   ],
   "source": [
    "lr = 0.03\n",
    "num_epochs = 3\n",
    "net = linreg # 模型\n",
    "loss = squared_loss #损失函数\n",
    "batch_size =10\n",
    "\n",
    "for epoch in range(num_epochs):\n",
    "    # 一个个batch去更新参数\n",
    "    for X,y in data_iter(batch_size,features,labels):\n",
    "        with tf.GradientTape() as t:\n",
    "            t.watch([w,b]) # 跟踪w,b\n",
    "            l = loss(net(X,w,b),y) # 先前传播\n",
    "        grads = t.gradient(l,[w,b]) # 批量样本的梯度和\n",
    "        sgd([w,b],lr,batch_size,grads) # 更新参数\n",
    "    # 评估训练集上损失\n",
    "    train_l = loss(net(features,w,b),labels)\n",
    "    print('epoch%d,loss %f'%(epoch+1,tf.reduce_mean(train_l)))\n",
    "    "
   ]
  },
  {
   "cell_type": "markdown",
   "metadata": {},
   "source": [
    "---\n",
    "验证一下，学习到的参数是否接近真实参数？应该非常接近。"
   ]
  },
  {
   "cell_type": "code",
   "execution_count": 159,
   "metadata": {},
   "outputs": [
    {
     "name": "stdout",
     "output_type": "stream",
     "text": [
      "[2, -3.4] <tf.Variable 'Variable:0' shape=(2, 1) dtype=float32, numpy=\n",
      "array([[ 2.0012298],\n",
      "       [-3.4013243]], dtype=float32)>\n"
     ]
    }
   ],
   "source": [
    "print(true_w, w)"
   ]
  },
  {
   "cell_type": "code",
   "execution_count": 160,
   "metadata": {},
   "outputs": [
    {
     "name": "stdout",
     "output_type": "stream",
     "text": [
      "4.2 <tf.Variable 'Variable:0' shape=(1,) dtype=float32, numpy=array([4.199328], dtype=float32)>\n"
     ]
    }
   ],
   "source": [
    "print(true_b, b)"
   ]
  },
  {
   "cell_type": "code",
   "execution_count": null,
   "metadata": {},
   "outputs": [],
   "source": []
  }
 ],
 "metadata": {
  "kernelspec": {
   "display_name": "Python 3",
   "language": "python",
   "name": "python3"
  },
  "language_info": {
   "codemirror_mode": {
    "name": "ipython",
    "version": 3
   },
   "file_extension": ".py",
   "mimetype": "text/x-python",
   "name": "python",
   "nbconvert_exporter": "python",
   "pygments_lexer": "ipython3",
   "version": "3.8.3"
  }
 },
 "nbformat": 4,
 "nbformat_minor": 4
}
