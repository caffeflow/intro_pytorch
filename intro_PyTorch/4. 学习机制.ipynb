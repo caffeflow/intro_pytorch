{
 "cells": [
  {
   "cell_type": "markdown",
   "metadata": {},
   "source": [
    "- 理解算法如何从数据中学习\n",
    "- 使用微分和梯度下降将学习重新构造为参数估计\n",
    "- 从头开始学习一个简单的学习算法\n",
    "- 了解PyTorch如何通过autograd支持学习"
   ]
  },
  {
   "cell_type": "markdown",
   "metadata": {},
   "source": [
    "机器到底是如何学习的？学习的机制或背后的算法是什么？从外部观察者的角度来看，**学习算法就是将输入数据与所需输出配对。当学习完成后，该算法在输入与训练后的输入数据足够相似的新数据时，便能够产生正确的输出。**借助深度学习，即使输入数据和所需的输出来自彼此不同的域（例如图像和描述它的句子）时，该过程也可以正常工作。"
   ]
  },
  {
   "cell_type": "markdown",
   "metadata": {},
   "source": [
    "---"
   ]
  },
  {
   "cell_type": "markdown",
   "metadata": {},
   "source": [
    "16世纪的开普勒如何得出三个行星运动定律？\n",
    "\n",
    "总结一下，开普勒在过去的六年里\n",
    "\n",
    "1. 从他的朋友Brahe那里得到了很多好的数据（费了一些周折）。\n",
    "2. 试图将这些数据可视化，因为他觉得有的（数据）有些可疑。\n",
    "3. 选择有可能拟合数据的最简单的模型（椭圆）。\n",
    "4. 划分数据，以便处理部分数据并保留独立的数据集用来验证。\n",
    "5. 从试探性的偏心率和大小开始，然后进行迭代直到模型拟合观察结果为止。\n",
    "6. 根据独立的数据集验证他的模型。\n",
    "7. 难以置信地回顾。\n",
    "\n",
    "\n",
    "这些步骤正是你想从数据中学到东西所需的。在这里，说拟合（fit）数据和说让算法从数据中学习几乎没有区别。该过程始终涉及具有未知参数的函数，其参数是根据数据估算的，简称模型（model）。\n",
    "\n"
   ]
  },
  {
   "cell_type": "markdown",
   "metadata": {},
   "source": [
    "---"
   ]
  },
  {
   "cell_type": "markdown",
   "metadata": {},
   "source": [
    "开普勒的拟合过程是针对特定的任务。具体来说，而如何**自动进行通用函数拟合过程，这才是使用深度学习所做的全部工作，而深度神经网络就是通用函数**"
   ]
  },
  {
   "cell_type": "markdown",
   "metadata": {},
   "source": []
  },
  {
   "cell_type": "markdown",
   "metadata": {},
   "source": []
  },
  {
   "cell_type": "markdown",
   "metadata": {},
   "source": []
  },
  {
   "cell_type": "markdown",
   "metadata": {},
   "source": []
  },
  {
   "cell_type": "markdown",
   "metadata": {},
   "source": []
  },
  {
   "cell_type": "markdown",
   "metadata": {},
   "source": []
  },
  {
   "cell_type": "markdown",
   "metadata": {},
   "source": []
  }
 ],
 "metadata": {
  "kernelspec": {
   "display_name": "Python 3",
   "language": "python",
   "name": "python3"
  },
  "language_info": {
   "codemirror_mode": {
    "name": "ipython",
    "version": 3
   },
   "file_extension": ".py",
   "mimetype": "text/x-python",
   "name": "python",
   "nbconvert_exporter": "python",
   "pygments_lexer": "ipython3",
   "version": "3.8.3"
  }
 },
 "nbformat": 4,
 "nbformat_minor": 4
}
